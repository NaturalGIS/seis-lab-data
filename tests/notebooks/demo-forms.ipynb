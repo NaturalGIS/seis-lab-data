{
 "cells": [
  {
   "cell_type": "code",
   "execution_count": 1,
   "id": "0beb8b59-5e71-40ac-9831-5780f44e33e1",
   "metadata": {},
   "outputs": [],
   "source": [
    "import typing\n",
    "import dataclasses\n",
    "import logging\n",
    "\n",
    "import pydantic\n",
    "\n",
    "from seis_lab_data import schemas\n",
    "from seis_lab_data.webapp import forms\n",
    "\n",
    "logging.basicConfig(level=logging.DEBUG)"
   ]
  },
  {
   "cell_type": "code",
   "execution_count": 2,
   "id": "ca210819-f036-4180-a4c8-48dae422fdcd",
   "metadata": {},
   "outputs": [],
   "source": [
    "# a synthetic request class that we can use just for instantiating a starlette_wtf form\n",
    "@dataclasses.dataclass\n",
    "class FakeRequest:\n",
    "    method: str = \"POST\"\n",
    "    state: str = \"\""
   ]
  },
  {
   "cell_type": "code",
   "execution_count": 3,
   "id": "161b26fb-02c7-47bd-ba02-8211d6d648ac",
   "metadata": {},
   "outputs": [],
   "source": [
    "r1 = FakeRequest()"
   ]
  },
  {
   "cell_type": "code",
   "execution_count": 4,
   "id": "21c42fb3-e28a-4515-a9fc-efbb84dcda25",
   "metadata": {},
   "outputs": [],
   "source": [
    "f1 = forms.ProjectCreateForm(\n",
    "    r1,\n",
    "    data={\n",
    "        \"name\": {\n",
    "            \"pt\": \"\",\n",
    "            \"en\": \"\",\n",
    "        },\n",
    "        \"description\": {\n",
    "            \"pt\": \"\",\n",
    "            \"en\": \"\",\n",
    "        },\n",
    "    },\n",
    ")\n",
    "f2 = forms.ProjectCreateForm(r1)"
   ]
  },
  {
   "cell_type": "code",
   "execution_count": 5,
   "id": "1c32a6ce-6c7d-404b-bdc4-34107ac7f57c",
   "metadata": {},
   "outputs": [
    {
     "data": {
      "text/plain": [
       "True"
      ]
     },
     "execution_count": 5,
     "metadata": {},
     "output_type": "execute_result"
    }
   ],
   "source": [
    "await f1.validate_on_submit()\n",
    "await f2.validate_on_submit()"
   ]
  },
  {
   "cell_type": "code",
   "execution_count": 6,
   "id": "8eda2fe5-ae1e-43d5-9322-dee1372472ec",
   "metadata": {},
   "outputs": [
    {
     "name": "stderr",
     "output_type": "stream",
     "text": [
      "ERROR:seis_lab_data.webapp.forms:pydantic errors exc.errors()=[{'type': 'missing', 'loc': ('id',), 'msg': 'Field required', 'input': {'name': {'en': None, 'pt': None}, 'description_en': None, 'description_pt': None, 'root_path': None, 'links': []}, 'url': 'https://errors.pydantic.dev/2.11/v/missing'}, {'type': 'missing', 'loc': ('owner',), 'msg': 'Field required', 'input': {'name': {'en': None, 'pt': None}, 'description_en': None, 'description_pt': None, 'root_path': None, 'links': []}, 'url': 'https://errors.pydantic.dev/2.11/v/missing'}, {'type': 'string_type', 'loc': ('name', 'en'), 'msg': 'Input should be a valid string', 'input': None, 'url': 'https://errors.pydantic.dev/2.11/v/string_type'}, {'type': 'missing', 'loc': ('description',), 'msg': 'Field required', 'input': {'name': {'en': None, 'pt': None}, 'description_en': None, 'description_pt': None, 'root_path': None, 'links': []}, 'url': 'https://errors.pydantic.dev/2.11/v/missing'}, {'type': 'string_type', 'loc': ('root_path',), 'msg': 'Input should be a valid string', 'input': None, 'url': 'https://errors.pydantic.dev/2.11/v/string_type'}]\n",
      "DEBUG:seis_lab_data.webapp.forms:Analyzing error loc=('id',)...\n",
      "DEBUG:seis_lab_data.webapp.forms:Form field form_field=None\n",
      "DEBUG:seis_lab_data.webapp.forms:Unable to find form field for loc=('id',)\n",
      "DEBUG:seis_lab_data.webapp.forms:Analyzing error loc=('owner',)...\n",
      "DEBUG:seis_lab_data.webapp.forms:Form field form_field=None\n",
      "DEBUG:seis_lab_data.webapp.forms:Unable to find form field for loc=('owner',)\n",
      "DEBUG:seis_lab_data.webapp.forms:Analyzing error loc=('name', 'en')...\n",
      "DEBUG:seis_lab_data.webapp.forms:Form field form_field=<wtforms.fields.simple.StringField object at 0x74d9a28d16e0>\n",
      "DEBUG:seis_lab_data.webapp.forms:Analyzing error loc=('description',)...\n",
      "DEBUG:seis_lab_data.webapp.forms:Form field form_field=None\n",
      "DEBUG:seis_lab_data.webapp.forms:Unable to find form field for loc=('description',)\n",
      "DEBUG:seis_lab_data.webapp.forms:Analyzing error loc=('root_path',)...\n",
      "DEBUG:seis_lab_data.webapp.forms:Form field form_field=<wtforms.fields.simple.StringField object at 0x74d9a28d15b0>\n"
     ]
    }
   ],
   "source": [
    "validated_form = forms.validate_form_with_model(f2, schemas.ProjectCreate)"
   ]
  },
  {
   "cell_type": "code",
   "execution_count": 7,
   "id": "837467ca-b941-4493-98fa-9ebe8560b686",
   "metadata": {},
   "outputs": [
    {
     "data": {
      "text/plain": [
       "{'name': {'en': ['Input should be a valid string']},\n",
       " 'root_path': ['Input should be a valid string']}"
      ]
     },
     "execution_count": 7,
     "metadata": {},
     "output_type": "execute_result"
    }
   ],
   "source": [
    "validated_form.errors"
   ]
  },
  {
   "cell_type": "code",
   "execution_count": 8,
   "id": "c6bc6028-4844-4c74-be7d-0982a3f7c389",
   "metadata": {},
   "outputs": [
    {
     "name": "stderr",
     "output_type": "stream",
     "text": [
      "ERROR:seis_lab_data.webapp.forms:pydantic errors exc.errors()=[{'type': 'missing', 'loc': ('id',), 'msg': 'Field required', 'input': {'name': {'en': '', 'pt': ''}, 'description_en': None, 'description_pt': None, 'root_path': None, 'links': []}, 'url': 'https://errors.pydantic.dev/2.11/v/missing'}, {'type': 'missing', 'loc': ('owner',), 'msg': 'Field required', 'input': {'name': {'en': '', 'pt': ''}, 'description_en': None, 'description_pt': None, 'root_path': None, 'links': []}, 'url': 'https://errors.pydantic.dev/2.11/v/missing'}, {'type': 'string_too_short', 'loc': ('name', 'en'), 'msg': 'String should have at least 1 character', 'input': '', 'ctx': {'min_length': 1}, 'url': 'https://errors.pydantic.dev/2.11/v/string_too_short'}, {'type': 'missing', 'loc': ('description',), 'msg': 'Field required', 'input': {'name': {'en': '', 'pt': ''}, 'description_en': None, 'description_pt': None, 'root_path': None, 'links': []}, 'url': 'https://errors.pydantic.dev/2.11/v/missing'}, {'type': 'string_type', 'loc': ('root_path',), 'msg': 'Input should be a valid string', 'input': None, 'url': 'https://errors.pydantic.dev/2.11/v/string_type'}]\n",
      "DEBUG:seis_lab_data.webapp.forms:Analyzing error loc=('id',)...\n",
      "DEBUG:seis_lab_data.webapp.forms:Form field form_field=None\n",
      "DEBUG:seis_lab_data.webapp.forms:Unable to find form field for loc=('id',)\n",
      "DEBUG:seis_lab_data.webapp.forms:Analyzing error loc=('owner',)...\n",
      "DEBUG:seis_lab_data.webapp.forms:Form field form_field=None\n",
      "DEBUG:seis_lab_data.webapp.forms:Unable to find form field for loc=('owner',)\n",
      "DEBUG:seis_lab_data.webapp.forms:Analyzing error loc=('name', 'en')...\n",
      "DEBUG:seis_lab_data.webapp.forms:Form field form_field=<wtforms.fields.simple.StringField object at 0x74d9a28c9590>\n",
      "DEBUG:seis_lab_data.webapp.forms:Analyzing error loc=('description',)...\n",
      "DEBUG:seis_lab_data.webapp.forms:Form field form_field=None\n",
      "DEBUG:seis_lab_data.webapp.forms:Unable to find form field for loc=('description',)\n",
      "DEBUG:seis_lab_data.webapp.forms:Analyzing error loc=('root_path',)...\n",
      "DEBUG:seis_lab_data.webapp.forms:Form field form_field=<wtforms.fields.simple.StringField object at 0x74d9a28c0980>\n"
     ]
    }
   ],
   "source": [
    "validated_form = forms.validate_form_with_model(f1, schemas.ProjectCreate)"
   ]
  },
  {
   "cell_type": "code",
   "execution_count": 9,
   "id": "7119f843-6abd-4076-a227-2d5080a09f11",
   "metadata": {},
   "outputs": [
    {
     "data": {
      "text/plain": [
       "{'name': {'en': ['String should have at least 1 character']},\n",
       " 'root_path': ['Input should be a valid string']}"
      ]
     },
     "execution_count": 9,
     "metadata": {},
     "output_type": "execute_result"
    }
   ],
   "source": [
    "validated_form.errors"
   ]
  },
  {
   "cell_type": "code",
   "execution_count": 10,
   "id": "462152a2-e20a-43ad-9efa-0ea93bf9d1be",
   "metadata": {},
   "outputs": [
    {
     "data": {
      "text/plain": [
       "{}"
      ]
     },
     "execution_count": 10,
     "metadata": {},
     "output_type": "execute_result"
    }
   ],
   "source": [
    "validated_form.name.errors"
   ]
  },
  {
   "cell_type": "code",
   "execution_count": null,
   "id": "db6ee671-70cb-40f9-94af-78b3be488674",
   "metadata": {},
   "outputs": [],
   "source": [
    "schemas.ProjectCreate.model_fields"
   ]
  },
  {
   "cell_type": "code",
   "execution_count": 19,
   "id": "888e2382-388c-4480-bb33-2b065ab28442",
   "metadata": {},
   "outputs": [],
   "source": [
    "def get_all_field_locs(model_class: pydantic.BaseModel) -> list[tuple]:\n",
    "    \"\"\"\n",
    "    Generates a list of all possible field locations (loc tuples) for a Pydantic model.\n",
    "\n",
    "    This function recursively inspects the model's fields, including nested\n",
    "    BaseModels, to build a list of all possible paths where a validation\n",
    "    error could occur.\n",
    "\n",
    "    Args:\n",
    "        model_class: The Pydantic BaseModel class to inspect.\n",
    "\n",
    "    Returns:\n",
    "        A list of tuples, where each tuple is a potential 'loc' for a validation error.\n",
    "    \"\"\"\n",
    "    locs = []\n",
    "\n",
    "    def _traverse_fields(current_model, current_path):\n",
    "        \"\"\"Helper function to recursively traverse the model's fields.\"\"\"\n",
    "        for field_name, field_info in current_model.model_fields.items():\n",
    "            # Create a new path by extending the current path with the field name\n",
    "            new_path = current_path + (field_name,)\n",
    "            locs.append(new_path)\n",
    "\n",
    "            # Check if the field's annotation is a Pydantic BaseModel.\n",
    "            # We use `isinstance` on the annotation's type to handle generics like List[Address]\n",
    "            annotation = field_info.annotation\n",
    "            if hasattr(annotation, \"__origin__\") and annotation.__origin__ is list:\n",
    "                # Handle lists of models\n",
    "                inner_type = annotation.__args__[0]\n",
    "                if issubclass(inner_type, pydantic.BaseModel):\n",
    "                    # We can't know the list index beforehand, so we represent it with an ellipsis\n",
    "                    list_path = new_path + (...,)\n",
    "                    _traverse_fields(inner_type, list_path)\n",
    "            elif issubclass(annotation, pydantic.BaseModel):\n",
    "                # Recursively traverse the nested model\n",
    "                _traverse_fields(annotation, new_path)\n",
    "\n",
    "    _traverse_fields(model_class, ())\n",
    "    return locs"
   ]
  },
  {
   "cell_type": "code",
   "execution_count": 20,
   "id": "108a51ce-bf97-4f53-94de-506f08d6e94c",
   "metadata": {},
   "outputs": [
    {
     "data": {
      "text/plain": [
       "[('id',),\n",
       " ('owner',),\n",
       " ('name',),\n",
       " ('description',),\n",
       " ('root_path',),\n",
       " ('links',),\n",
       " ('links', Ellipsis, 'url'),\n",
       " ('links', Ellipsis, 'media_type'),\n",
       " ('links', Ellipsis, 'relation'),\n",
       " ('links', Ellipsis, 'description')]"
      ]
     },
     "execution_count": 20,
     "metadata": {},
     "output_type": "execute_result"
    }
   ],
   "source": [
    "get_all_field_locs(schemas.ProjectCreate)"
   ]
  },
  {
   "cell_type": "code",
   "execution_count": 29,
   "id": "c988e425-fc58-4ba8-9591-15c115668c9a",
   "metadata": {},
   "outputs": [],
   "source": [
    "def get_all_field_locs(model_class: pydantic.BaseModel) -> list[tuple[typing.Any, ...]]:\n",
    "    \"\"\"\n",
    "    Generates a list of all possible field locations (loc tuples) for a Pydantic model.\n",
    "\n",
    "    This function recursively inspects the model's fields, including nested\n",
    "    BaseModels and dictionaries, to build a list of all possible paths where a\n",
    "    validation error could occur.\n",
    "\n",
    "    Args:\n",
    "        model_class: The Pydantic BaseModel class to inspect.\n",
    "\n",
    "    Returns:\n",
    "        A list of tuples, where each tuple is a potential 'loc' for a validation error.\n",
    "    \"\"\"\n",
    "    locs = []\n",
    "\n",
    "    def _traverse_fields(current_model, current_path):\n",
    "        \"\"\"Helper function to recursively traverse the model's fields.\"\"\"\n",
    "        for field_name, field_info in current_model.model_fields.items():\n",
    "            # Create a new path by extending the current path with the field name\n",
    "            new_path = current_path + (field_name,)\n",
    "            locs.append(new_path)\n",
    "\n",
    "            annotation = field_info.annotation\n",
    "            origin = typing.get_origin(annotation)\n",
    "\n",
    "            # Check if the field is a nested Pydantic model\n",
    "            if isinstance(annotation, type) and issubclass(\n",
    "                annotation, pydantic.BaseModel\n",
    "            ):\n",
    "                # Recursively traverse the nested model\n",
    "                _traverse_fields(annotation, new_path)\n",
    "\n",
    "            # Check for generic container types (like List or Dict)\n",
    "            if origin:\n",
    "                # Get the type of the elements inside the container\n",
    "                args = typing.get_args(annotation)\n",
    "                if args:\n",
    "                    inner_type = args[0]\n",
    "                    # For a Dict, the value type is the second argument\n",
    "                    if origin is dict:\n",
    "                        inner_type = args[1]\n",
    "\n",
    "                    # If the inner type is a BaseModel, recurse on it\n",
    "                    if isinstance(inner_type, type) and issubclass(\n",
    "                        inner_type, pydantic.BaseModel\n",
    "                    ):\n",
    "                        # Use an ellipsis to represent an unknown index or key\n",
    "                        container_path = new_path + (...,)\n",
    "                        _traverse_fields(inner_type, container_path)\n",
    "\n",
    "    _traverse_fields(model_class, ())\n",
    "    return locs"
   ]
  },
  {
   "cell_type": "code",
   "execution_count": 30,
   "id": "e4125b5f-bc49-4737-92d0-c3174cfaeca1",
   "metadata": {},
   "outputs": [
    {
     "data": {
      "text/plain": [
       "[('id',),\n",
       " ('owner',),\n",
       " ('name',),\n",
       " ('description',),\n",
       " ('root_path',),\n",
       " ('links',),\n",
       " ('links', Ellipsis, 'url'),\n",
       " ('links', Ellipsis, 'media_type'),\n",
       " ('links', Ellipsis, 'relation'),\n",
       " ('links', Ellipsis, 'description')]"
      ]
     },
     "execution_count": 30,
     "metadata": {},
     "output_type": "execute_result"
    }
   ],
   "source": [
    "get_all_field_locs(schemas.ProjectCreate)"
   ]
  },
  {
   "cell_type": "code",
   "execution_count": 33,
   "id": "7ce2a255-f220-4e43-8113-7395459215b4",
   "metadata": {},
   "outputs": [],
   "source": [
    "def get_all_field_locs(model_class: pydantic.BaseModel) -> list[tuple[typing.Any, ...]]:\n",
    "    \"\"\"\n",
    "    Generates a list of all possible field locations (loc tuples) for a Pydantic model.\n",
    "\n",
    "    This function recursively inspects the model's fields, including nested\n",
    "    BaseModels, dictionaries, and lists, to build a list of all possible paths\n",
    "    where a validation error could occur. It correctly handles Annotated types.\n",
    "\n",
    "    Args:\n",
    "        model_class: The Pydantic BaseModel class to inspect.\n",
    "\n",
    "    Returns:\n",
    "        A list of tuples, where each tuple is a potential 'loc' for a validation error.\n",
    "    \"\"\"\n",
    "    locs = []\n",
    "\n",
    "    def _traverse_fields(current_model, current_path):\n",
    "        \"\"\"Helper function to recursively traverse the model's fields.\"\"\"\n",
    "        for field_name, field_info in current_model.model_fields.items():\n",
    "            # Get the effective annotation, unwrapping Annotated types\n",
    "            annotation = field_info.annotation\n",
    "            if typing.get_origin(annotation) is typing.Annotated:\n",
    "                annotation = typing.get_args(annotation)[0]\n",
    "\n",
    "            # Create a new path by extending the current path with the field name\n",
    "            new_path = current_path + (field_name,)\n",
    "            locs.append(new_path)\n",
    "\n",
    "            origin = typing.get_origin(annotation)\n",
    "\n",
    "            # Check if the field is a nested Pydantic model\n",
    "            if isinstance(annotation, type) and issubclass(\n",
    "                annotation, pydantic.BaseModel\n",
    "            ):\n",
    "                # Recursively traverse the nested model\n",
    "                _traverse_fields(annotation, new_path)\n",
    "\n",
    "            # Check for generic container types (like List or Dict)\n",
    "            if origin:\n",
    "                args = typing.get_args(annotation)\n",
    "                if args:\n",
    "                    inner_type = args[0]\n",
    "                    # For a Dict, the value type is the second argument\n",
    "                    if origin is dict:\n",
    "                        inner_type = args[1]\n",
    "\n",
    "                    # If the inner type is a BaseModel, recurse on it\n",
    "                    if isinstance(inner_type, type) and issubclass(\n",
    "                        inner_type, pydantic.BaseModel\n",
    "                    ):\n",
    "                        # Use an ellipsis to represent an unknown index or key\n",
    "                        container_path = new_path + (...,)\n",
    "                        _traverse_fields(inner_type, container_path)\n",
    "\n",
    "    _traverse_fields(model_class, ())\n",
    "    return locs"
   ]
  },
  {
   "cell_type": "code",
   "execution_count": 34,
   "id": "2dd7d9d6-eca2-4165-a8d6-e68e28376dbd",
   "metadata": {},
   "outputs": [
    {
     "data": {
      "text/plain": [
       "[('id',),\n",
       " ('owner',),\n",
       " ('name',),\n",
       " ('description',),\n",
       " ('root_path',),\n",
       " ('links',),\n",
       " ('links', Ellipsis, 'url'),\n",
       " ('links', Ellipsis, 'media_type'),\n",
       " ('links', Ellipsis, 'relation'),\n",
       " ('links', Ellipsis, 'description')]"
      ]
     },
     "execution_count": 34,
     "metadata": {},
     "output_type": "execute_result"
    }
   ],
   "source": [
    "get_all_field_locs(schemas.ProjectCreate)"
   ]
  }
 ],
 "metadata": {
  "kernelspec": {
   "display_name": "Python 3 (ipykernel)",
   "language": "python",
   "name": "python3"
  },
  "language_info": {
   "codemirror_mode": {
    "name": "ipython",
    "version": 3
   },
   "file_extension": ".py",
   "mimetype": "text/x-python",
   "name": "python",
   "nbconvert_exporter": "python",
   "pygments_lexer": "ipython3",
   "version": "3.13.7"
  }
 },
 "nbformat": 4,
 "nbformat_minor": 5
}
