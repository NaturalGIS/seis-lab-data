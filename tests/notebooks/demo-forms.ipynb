{
 "cells": [
  {
   "cell_type": "code",
   "execution_count": 1,
   "id": "0beb8b59-5e71-40ac-9831-5780f44e33e1",
   "metadata": {},
   "outputs": [],
   "source": [
    "import typing\n",
    "import dataclasses\n",
    "import logging\n",
    "\n",
    "import pydantic\n",
    "\n",
    "from seis_lab_data import schemas\n",
    "from seis_lab_data.webapp import forms\n",
    "\n",
    "logging.basicConfig(level=logging.DEBUG)"
   ]
  },
  {
   "cell_type": "code",
   "execution_count": 2,
   "id": "ca210819-f036-4180-a4c8-48dae422fdcd",
   "metadata": {},
   "outputs": [],
   "source": [
    "# a synthetic request class that we can use just for instantiating a starlette_wtf form\n",
    "@dataclasses.dataclass\n",
    "class FakeRequest:\n",
    "    method: str = \"POST\"\n",
    "    state: str = \"\""
   ]
  },
  {
   "cell_type": "code",
   "execution_count": 3,
   "id": "161b26fb-02c7-47bd-ba02-8211d6d648ac",
   "metadata": {},
   "outputs": [],
   "source": [
    "r1 = FakeRequest()"
   ]
  },
  {
   "cell_type": "code",
   "execution_count": 4,
   "id": "265a97f3-3d61-4ccb-9817-281ecce5f950",
   "metadata": {},
   "outputs": [],
   "source": [
    "f1 = forms.SurveyRelatedRecordCreateForm(r1)"
   ]
  },
  {
   "cell_type": "code",
   "execution_count": 10,
   "id": "d41e6e30-1239-4788-b0b8-829d347cf5ad",
   "metadata": {},
   "outputs": [
    {
     "name": "stdout",
     "output_type": "stream",
     "text": [
      "<table id=\"assets-0-name\"><tr><th><label for=\"assets-0-name-en\">English name</label></th><td><input id=\"assets-0-name-en\" maxlength=\"100\" name=\"assets-0-name-en\" type=\"text\" value=\"\"></td></tr><tr><th><label for=\"assets-0-name-pt\">Portuguese name</label></th><td><input id=\"assets-0-name-pt\" maxlength=\"100\" name=\"assets-0-name-pt\" type=\"text\" value=\"\"></td></tr></table>\n",
      "assets-0-name\n",
      "name\n",
      "---\n",
      "<table id=\"assets-0-description\"><tr><th><label for=\"assets-0-description-en\">English description</label></th><td><textarea id=\"assets-0-description-en\" maxlength=\"500\" name=\"assets-0-description-en\">\n",
      "</textarea></td></tr><tr><th><label for=\"assets-0-description-pt\">Portuguese description</label></th><td><textarea id=\"assets-0-description-pt\" maxlength=\"500\" name=\"assets-0-description-pt\">\n",
      "</textarea></td></tr></table>\n",
      "assets-0-description\n",
      "description\n",
      "---\n",
      "<input id=\"assets-0-relative_path\" name=\"assets-0-relative_path\" type=\"text\" value=\"\">\n",
      "assets-0-relative_path\n",
      "relative_path\n",
      "---\n",
      "<ul id=\"assets-0-links\"></ul>\n",
      "assets-0-links\n",
      "links\n",
      "---\n"
     ]
    }
   ],
   "source": [
    "for asset_form_field in f1.assets[0]:\n",
    "    print(asset_form_field)\n",
    "    print(asset_form_field.name)\n",
    "    print(asset_form_field.short_name)\n",
    "    print(\"---\")"
   ]
  },
  {
   "cell_type": "code",
   "execution_count": 18,
   "id": "e61a7c0c-19f2-48ab-90c2-3addc57804d5",
   "metadata": {},
   "outputs": [],
   "source": [
    "loc = (\"assets\", 0, \"name\")"
   ]
  },
  {
   "cell_type": "code",
   "execution_count": 19,
   "id": "6afc1e1a-6aa1-4e92-9184-6fd73f67399f",
   "metadata": {},
   "outputs": [],
   "source": [
    "asset_list = getattr(f1, loc[0])"
   ]
  },
  {
   "cell_type": "code",
   "execution_count": 20,
   "id": "d6293d8c-c8f3-41c5-b04d-01ceeb300d51",
   "metadata": {},
   "outputs": [],
   "source": [
    "asset_form = asset_list[0]"
   ]
  },
  {
   "cell_type": "code",
   "execution_count": 21,
   "id": "c49add31-6ea1-4ab8-b9c6-00ebadf37c39",
   "metadata": {},
   "outputs": [
    {
     "data": {
      "text/plain": [
       "'assets-0'"
      ]
     },
     "execution_count": 21,
     "metadata": {},
     "output_type": "execute_result"
    }
   ],
   "source": [
    "getattr(asset_form, loc[2])"
   ]
  },
  {
   "cell_type": "code",
   "execution_count": 27,
   "id": "ac0cee68-b604-4b27-b0e7-3a8524c3928e",
   "metadata": {},
   "outputs": [
    {
     "data": {
      "text/plain": [
       "'assets-0'"
      ]
     },
     "execution_count": 27,
     "metadata": {},
     "output_type": "execute_result"
    }
   ],
   "source": [
    "asset_form.short_name"
   ]
  },
  {
   "cell_type": "code",
   "execution_count": 22,
   "id": "66c91e74-e48b-48dc-81b8-4042c3fb277c",
   "metadata": {},
   "outputs": [
    {
     "data": {
      "text/plain": [
       "<wtforms.fields.form.FormField at 0x7156dd916420>"
      ]
     },
     "execution_count": 22,
     "metadata": {},
     "output_type": "execute_result"
    }
   ],
   "source": [
    "getattr(asset_form, \"asset_name\")"
   ]
  },
  {
   "cell_type": "code",
   "execution_count": 33,
   "id": "83e18301-a3c9-4b84-98a7-746b970b761e",
   "metadata": {},
   "outputs": [
    {
     "name": "stdout",
     "output_type": "stream",
     "text": [
      "f=<wtforms.fields.form.FormField object at 0x7156dd916420>, f.short_name='name'\n",
      "f=<wtforms.fields.form.FormField object at 0x7156dd916510>, f.short_name='description'\n",
      "f=<wtforms.fields.simple.StringField object at 0x7156dd9165a0>, f.short_name='relative_path'\n",
      "f=<wtforms.fields.list.FieldList object at 0x7156dd916630>, f.short_name='links'\n"
     ]
    }
   ],
   "source": [
    "for f in asset_form:\n",
    "    print(f\"{f=}, {f.short_name=}\")"
   ]
  },
  {
   "cell_type": "code",
   "execution_count": 4,
   "id": "21c42fb3-e28a-4515-a9fc-efbb84dcda25",
   "metadata": {},
   "outputs": [],
   "source": [
    "f1 = forms.ProjectCreateForm(\n",
    "    r1,\n",
    "    data={\n",
    "        \"name\": {\n",
    "            \"pt\": \"\",\n",
    "            \"en\": \"\",\n",
    "        },\n",
    "        \"description\": {\n",
    "            \"pt\": \"\",\n",
    "            \"en\": \"\",\n",
    "        },\n",
    "    },\n",
    ")\n",
    "f2 = forms.ProjectCreateForm(r1)"
   ]
  },
  {
   "cell_type": "code",
   "execution_count": 5,
   "id": "1c32a6ce-6c7d-404b-bdc4-34107ac7f57c",
   "metadata": {},
   "outputs": [
    {
     "data": {
      "text/plain": [
       "True"
      ]
     },
     "execution_count": 5,
     "metadata": {},
     "output_type": "execute_result"
    }
   ],
   "source": [
    "await f1.validate_on_submit()\n",
    "await f2.validate_on_submit()"
   ]
  },
  {
   "cell_type": "code",
   "execution_count": 6,
   "id": "8eda2fe5-ae1e-43d5-9322-dee1372472ec",
   "metadata": {},
   "outputs": [
    {
     "name": "stderr",
     "output_type": "stream",
     "text": [
      "ERROR:seis_lab_data.webapp.forms:pydantic errors exc.errors()=[{'type': 'missing', 'loc': ('id',), 'msg': 'Field required', 'input': {'name': {'en': None, 'pt': None}, 'description_en': None, 'description_pt': None, 'root_path': None, 'links': []}, 'url': 'https://errors.pydantic.dev/2.11/v/missing'}, {'type': 'missing', 'loc': ('owner',), 'msg': 'Field required', 'input': {'name': {'en': None, 'pt': None}, 'description_en': None, 'description_pt': None, 'root_path': None, 'links': []}, 'url': 'https://errors.pydantic.dev/2.11/v/missing'}, {'type': 'string_type', 'loc': ('name', 'en'), 'msg': 'Input should be a valid string', 'input': None, 'url': 'https://errors.pydantic.dev/2.11/v/string_type'}, {'type': 'missing', 'loc': ('description',), 'msg': 'Field required', 'input': {'name': {'en': None, 'pt': None}, 'description_en': None, 'description_pt': None, 'root_path': None, 'links': []}, 'url': 'https://errors.pydantic.dev/2.11/v/missing'}, {'type': 'string_type', 'loc': ('root_path',), 'msg': 'Input should be a valid string', 'input': None, 'url': 'https://errors.pydantic.dev/2.11/v/string_type'}]\n",
      "DEBUG:seis_lab_data.webapp.forms:Analyzing error loc=('id',)...\n",
      "DEBUG:seis_lab_data.webapp.forms:Form field form_field=None\n",
      "DEBUG:seis_lab_data.webapp.forms:Unable to find form field for loc=('id',)\n",
      "DEBUG:seis_lab_data.webapp.forms:Analyzing error loc=('owner',)...\n",
      "DEBUG:seis_lab_data.webapp.forms:Form field form_field=None\n",
      "DEBUG:seis_lab_data.webapp.forms:Unable to find form field for loc=('owner',)\n",
      "DEBUG:seis_lab_data.webapp.forms:Analyzing error loc=('name', 'en')...\n",
      "DEBUG:seis_lab_data.webapp.forms:Form field form_field=<wtforms.fields.simple.StringField object at 0x74d9a28d16e0>\n",
      "DEBUG:seis_lab_data.webapp.forms:Analyzing error loc=('description',)...\n",
      "DEBUG:seis_lab_data.webapp.forms:Form field form_field=None\n",
      "DEBUG:seis_lab_data.webapp.forms:Unable to find form field for loc=('description',)\n",
      "DEBUG:seis_lab_data.webapp.forms:Analyzing error loc=('root_path',)...\n",
      "DEBUG:seis_lab_data.webapp.forms:Form field form_field=<wtforms.fields.simple.StringField object at 0x74d9a28d15b0>\n"
     ]
    }
   ],
   "source": [
    "validated_form = forms.validate_form_with_model(f2, schemas.ProjectCreate)"
   ]
  },
  {
   "cell_type": "code",
   "execution_count": 7,
   "id": "837467ca-b941-4493-98fa-9ebe8560b686",
   "metadata": {},
   "outputs": [
    {
     "data": {
      "text/plain": [
       "{'name': {'en': ['Input should be a valid string']},\n",
       " 'root_path': ['Input should be a valid string']}"
      ]
     },
     "execution_count": 7,
     "metadata": {},
     "output_type": "execute_result"
    }
   ],
   "source": [
    "validated_form.errors"
   ]
  },
  {
   "cell_type": "code",
   "execution_count": 8,
   "id": "c6bc6028-4844-4c74-be7d-0982a3f7c389",
   "metadata": {},
   "outputs": [
    {
     "name": "stderr",
     "output_type": "stream",
     "text": [
      "ERROR:seis_lab_data.webapp.forms:pydantic errors exc.errors()=[{'type': 'missing', 'loc': ('id',), 'msg': 'Field required', 'input': {'name': {'en': '', 'pt': ''}, 'description_en': None, 'description_pt': None, 'root_path': None, 'links': []}, 'url': 'https://errors.pydantic.dev/2.11/v/missing'}, {'type': 'missing', 'loc': ('owner',), 'msg': 'Field required', 'input': {'name': {'en': '', 'pt': ''}, 'description_en': None, 'description_pt': None, 'root_path': None, 'links': []}, 'url': 'https://errors.pydantic.dev/2.11/v/missing'}, {'type': 'string_too_short', 'loc': ('name', 'en'), 'msg': 'String should have at least 1 character', 'input': '', 'ctx': {'min_length': 1}, 'url': 'https://errors.pydantic.dev/2.11/v/string_too_short'}, {'type': 'missing', 'loc': ('description',), 'msg': 'Field required', 'input': {'name': {'en': '', 'pt': ''}, 'description_en': None, 'description_pt': None, 'root_path': None, 'links': []}, 'url': 'https://errors.pydantic.dev/2.11/v/missing'}, {'type': 'string_type', 'loc': ('root_path',), 'msg': 'Input should be a valid string', 'input': None, 'url': 'https://errors.pydantic.dev/2.11/v/string_type'}]\n",
      "DEBUG:seis_lab_data.webapp.forms:Analyzing error loc=('id',)...\n",
      "DEBUG:seis_lab_data.webapp.forms:Form field form_field=None\n",
      "DEBUG:seis_lab_data.webapp.forms:Unable to find form field for loc=('id',)\n",
      "DEBUG:seis_lab_data.webapp.forms:Analyzing error loc=('owner',)...\n",
      "DEBUG:seis_lab_data.webapp.forms:Form field form_field=None\n",
      "DEBUG:seis_lab_data.webapp.forms:Unable to find form field for loc=('owner',)\n",
      "DEBUG:seis_lab_data.webapp.forms:Analyzing error loc=('name', 'en')...\n",
      "DEBUG:seis_lab_data.webapp.forms:Form field form_field=<wtforms.fields.simple.StringField object at 0x74d9a28c9590>\n",
      "DEBUG:seis_lab_data.webapp.forms:Analyzing error loc=('description',)...\n",
      "DEBUG:seis_lab_data.webapp.forms:Form field form_field=None\n",
      "DEBUG:seis_lab_data.webapp.forms:Unable to find form field for loc=('description',)\n",
      "DEBUG:seis_lab_data.webapp.forms:Analyzing error loc=('root_path',)...\n",
      "DEBUG:seis_lab_data.webapp.forms:Form field form_field=<wtforms.fields.simple.StringField object at 0x74d9a28c0980>\n"
     ]
    }
   ],
   "source": [
    "validated_form = forms.validate_form_with_model(f1, schemas.ProjectCreate)"
   ]
  },
  {
   "cell_type": "code",
   "execution_count": 9,
   "id": "7119f843-6abd-4076-a227-2d5080a09f11",
   "metadata": {},
   "outputs": [
    {
     "data": {
      "text/plain": [
       "{'name': {'en': ['String should have at least 1 character']},\n",
       " 'root_path': ['Input should be a valid string']}"
      ]
     },
     "execution_count": 9,
     "metadata": {},
     "output_type": "execute_result"
    }
   ],
   "source": [
    "validated_form.errors"
   ]
  },
  {
   "cell_type": "code",
   "execution_count": 10,
   "id": "462152a2-e20a-43ad-9efa-0ea93bf9d1be",
   "metadata": {},
   "outputs": [
    {
     "data": {
      "text/plain": [
       "{}"
      ]
     },
     "execution_count": 10,
     "metadata": {},
     "output_type": "execute_result"
    }
   ],
   "source": [
    "validated_form.name.errors"
   ]
  },
  {
   "cell_type": "code",
   "execution_count": null,
   "id": "db6ee671-70cb-40f9-94af-78b3be488674",
   "metadata": {},
   "outputs": [],
   "source": [
    "schemas.ProjectCreate.model_fields"
   ]
  },
  {
   "cell_type": "code",
   "execution_count": 19,
   "id": "888e2382-388c-4480-bb33-2b065ab28442",
   "metadata": {},
   "outputs": [],
   "source": [
    "def get_all_field_locs(model_class: pydantic.BaseModel) -> list[tuple]:\n",
    "    \"\"\"\n",
    "    Generates a list of all possible field locations (loc tuples) for a Pydantic model.\n",
    "\n",
    "    This function recursively inspects the model's fields, including nested\n",
    "    BaseModels, to build a list of all possible paths where a validation\n",
    "    error could occur.\n",
    "\n",
    "    Args:\n",
    "        model_class: The Pydantic BaseModel class to inspect.\n",
    "\n",
    "    Returns:\n",
    "        A list of tuples, where each tuple is a potential 'loc' for a validation error.\n",
    "    \"\"\"\n",
    "    locs = []\n",
    "\n",
    "    def _traverse_fields(current_model, current_path):\n",
    "        \"\"\"Helper function to recursively traverse the model's fields.\"\"\"\n",
    "        for field_name, field_info in current_model.model_fields.items():\n",
    "            # Create a new path by extending the current path with the field name\n",
    "            new_path = current_path + (field_name,)\n",
    "            locs.append(new_path)\n",
    "\n",
    "            # Check if the field's annotation is a Pydantic BaseModel.\n",
    "            # We use `isinstance` on the annotation's type to handle generics like List[Address]\n",
    "            annotation = field_info.annotation\n",
    "            if hasattr(annotation, \"__origin__\") and annotation.__origin__ is list:\n",
    "                # Handle lists of models\n",
    "                inner_type = annotation.__args__[0]\n",
    "                if issubclass(inner_type, pydantic.BaseModel):\n",
    "                    # We can't know the list index beforehand, so we represent it with an ellipsis\n",
    "                    list_path = new_path + (...,)\n",
    "                    _traverse_fields(inner_type, list_path)\n",
    "            elif issubclass(annotation, pydantic.BaseModel):\n",
    "                # Recursively traverse the nested model\n",
    "                _traverse_fields(annotation, new_path)\n",
    "\n",
    "    _traverse_fields(model_class, ())\n",
    "    return locs"
   ]
  },
  {
   "cell_type": "code",
   "execution_count": 20,
   "id": "108a51ce-bf97-4f53-94de-506f08d6e94c",
   "metadata": {},
   "outputs": [
    {
     "data": {
      "text/plain": [
       "[('id',),\n",
       " ('owner',),\n",
       " ('name',),\n",
       " ('description',),\n",
       " ('root_path',),\n",
       " ('links',),\n",
       " ('links', Ellipsis, 'url'),\n",
       " ('links', Ellipsis, 'media_type'),\n",
       " ('links', Ellipsis, 'relation'),\n",
       " ('links', Ellipsis, 'description')]"
      ]
     },
     "execution_count": 20,
     "metadata": {},
     "output_type": "execute_result"
    }
   ],
   "source": [
    "get_all_field_locs(schemas.ProjectCreate)"
   ]
  },
  {
   "cell_type": "code",
   "execution_count": 29,
   "id": "c988e425-fc58-4ba8-9591-15c115668c9a",
   "metadata": {},
   "outputs": [],
   "source": [
    "def get_all_field_locs(model_class: pydantic.BaseModel) -> list[tuple[typing.Any, ...]]:\n",
    "    \"\"\"\n",
    "    Generates a list of all possible field locations (loc tuples) for a Pydantic model.\n",
    "\n",
    "    This function recursively inspects the model's fields, including nested\n",
    "    BaseModels and dictionaries, to build a list of all possible paths where a\n",
    "    validation error could occur.\n",
    "\n",
    "    Args:\n",
    "        model_class: The Pydantic BaseModel class to inspect.\n",
    "\n",
    "    Returns:\n",
    "        A list of tuples, where each tuple is a potential 'loc' for a validation error.\n",
    "    \"\"\"\n",
    "    locs = []\n",
    "\n",
    "    def _traverse_fields(current_model, current_path):\n",
    "        \"\"\"Helper function to recursively traverse the model's fields.\"\"\"\n",
    "        for field_name, field_info in current_model.model_fields.items():\n",
    "            # Create a new path by extending the current path with the field name\n",
    "            new_path = current_path + (field_name,)\n",
    "            locs.append(new_path)\n",
    "\n",
    "            annotation = field_info.annotation\n",
    "            origin = typing.get_origin(annotation)\n",
    "\n",
    "            # Check if the field is a nested Pydantic model\n",
    "            if isinstance(annotation, type) and issubclass(\n",
    "                annotation, pydantic.BaseModel\n",
    "            ):\n",
    "                # Recursively traverse the nested model\n",
    "                _traverse_fields(annotation, new_path)\n",
    "\n",
    "            # Check for generic container types (like List or Dict)\n",
    "            if origin:\n",
    "                # Get the type of the elements inside the container\n",
    "                args = typing.get_args(annotation)\n",
    "                if args:\n",
    "                    inner_type = args[0]\n",
    "                    # For a Dict, the value type is the second argument\n",
    "                    if origin is dict:\n",
    "                        inner_type = args[1]\n",
    "\n",
    "                    # If the inner type is a BaseModel, recurse on it\n",
    "                    if isinstance(inner_type, type) and issubclass(\n",
    "                        inner_type, pydantic.BaseModel\n",
    "                    ):\n",
    "                        # Use an ellipsis to represent an unknown index or key\n",
    "                        container_path = new_path + (...,)\n",
    "                        _traverse_fields(inner_type, container_path)\n",
    "\n",
    "    _traverse_fields(model_class, ())\n",
    "    return locs"
   ]
  },
  {
   "cell_type": "code",
   "execution_count": 30,
   "id": "e4125b5f-bc49-4737-92d0-c3174cfaeca1",
   "metadata": {},
   "outputs": [
    {
     "data": {
      "text/plain": [
       "[('id',),\n",
       " ('owner',),\n",
       " ('name',),\n",
       " ('description',),\n",
       " ('root_path',),\n",
       " ('links',),\n",
       " ('links', Ellipsis, 'url'),\n",
       " ('links', Ellipsis, 'media_type'),\n",
       " ('links', Ellipsis, 'relation'),\n",
       " ('links', Ellipsis, 'description')]"
      ]
     },
     "execution_count": 30,
     "metadata": {},
     "output_type": "execute_result"
    }
   ],
   "source": [
    "get_all_field_locs(schemas.ProjectCreate)"
   ]
  },
  {
   "cell_type": "code",
   "execution_count": 33,
   "id": "7ce2a255-f220-4e43-8113-7395459215b4",
   "metadata": {},
   "outputs": [],
   "source": [
    "def get_all_field_locs(model_class: pydantic.BaseModel) -> list[tuple[typing.Any, ...]]:\n",
    "    \"\"\"\n",
    "    Generates a list of all possible field locations (loc tuples) for a Pydantic model.\n",
    "\n",
    "    This function recursively inspects the model's fields, including nested\n",
    "    BaseModels, dictionaries, and lists, to build a list of all possible paths\n",
    "    where a validation error could occur. It correctly handles Annotated types.\n",
    "\n",
    "    Args:\n",
    "        model_class: The Pydantic BaseModel class to inspect.\n",
    "\n",
    "    Returns:\n",
    "        A list of tuples, where each tuple is a potential 'loc' for a validation error.\n",
    "    \"\"\"\n",
    "    locs = []\n",
    "\n",
    "    def _traverse_fields(current_model, current_path):\n",
    "        \"\"\"Helper function to recursively traverse the model's fields.\"\"\"\n",
    "        for field_name, field_info in current_model.model_fields.items():\n",
    "            # Get the effective annotation, unwrapping Annotated types\n",
    "            annotation = field_info.annotation\n",
    "            if typing.get_origin(annotation) is typing.Annotated:\n",
    "                annotation = typing.get_args(annotation)[0]\n",
    "\n",
    "            # Create a new path by extending the current path with the field name\n",
    "            new_path = current_path + (field_name,)\n",
    "            locs.append(new_path)\n",
    "\n",
    "            origin = typing.get_origin(annotation)\n",
    "\n",
    "            # Check if the field is a nested Pydantic model\n",
    "            if isinstance(annotation, type) and issubclass(\n",
    "                annotation, pydantic.BaseModel\n",
    "            ):\n",
    "                # Recursively traverse the nested model\n",
    "                _traverse_fields(annotation, new_path)\n",
    "\n",
    "            # Check for generic container types (like List or Dict)\n",
    "            if origin:\n",
    "                args = typing.get_args(annotation)\n",
    "                if args:\n",
    "                    inner_type = args[0]\n",
    "                    # For a Dict, the value type is the second argument\n",
    "                    if origin is dict:\n",
    "                        inner_type = args[1]\n",
    "\n",
    "                    # If the inner type is a BaseModel, recurse on it\n",
    "                    if isinstance(inner_type, type) and issubclass(\n",
    "                        inner_type, pydantic.BaseModel\n",
    "                    ):\n",
    "                        # Use an ellipsis to represent an unknown index or key\n",
    "                        container_path = new_path + (...,)\n",
    "                        _traverse_fields(inner_type, container_path)\n",
    "\n",
    "    _traverse_fields(model_class, ())\n",
    "    return locs"
   ]
  },
  {
   "cell_type": "code",
   "execution_count": 34,
   "id": "2dd7d9d6-eca2-4165-a8d6-e68e28376dbd",
   "metadata": {},
   "outputs": [
    {
     "data": {
      "text/plain": [
       "[('id',),\n",
       " ('owner',),\n",
       " ('name',),\n",
       " ('description',),\n",
       " ('root_path',),\n",
       " ('links',),\n",
       " ('links', Ellipsis, 'url'),\n",
       " ('links', Ellipsis, 'media_type'),\n",
       " ('links', Ellipsis, 'relation'),\n",
       " ('links', Ellipsis, 'description')]"
      ]
     },
     "execution_count": 34,
     "metadata": {},
     "output_type": "execute_result"
    }
   ],
   "source": [
    "get_all_field_locs(schemas.ProjectCreate)"
   ]
  },
  {
   "cell_type": "code",
   "execution_count": 38,
   "id": "ab2e95e5-dafe-4020-b733-118caeac6b59",
   "metadata": {},
   "outputs": [
    {
     "ename": "ValidationError",
     "evalue": "13 validation errors for SurveyRelatedRecordCreate\nid\n  Field required [type=missing, input_value={'assets': [{'name': {}}]}, input_type=dict]\n    For further information visit https://errors.pydantic.dev/2.11/v/missing\nowner\n  Field required [type=missing, input_value={'assets': [{'name': {}}]}, input_type=dict]\n    For further information visit https://errors.pydantic.dev/2.11/v/missing\nname\n  Field required [type=missing, input_value={'assets': [{'name': {}}]}, input_type=dict]\n    For further information visit https://errors.pydantic.dev/2.11/v/missing\ndescription\n  Field required [type=missing, input_value={'assets': [{'name': {}}]}, input_type=dict]\n    For further information visit https://errors.pydantic.dev/2.11/v/missing\nsurvey_mission_id\n  Field required [type=missing, input_value={'assets': [{'name': {}}]}, input_type=dict]\n    For further information visit https://errors.pydantic.dev/2.11/v/missing\ndataset_category_id\n  Field required [type=missing, input_value={'assets': [{'name': {}}]}, input_type=dict]\n    For further information visit https://errors.pydantic.dev/2.11/v/missing\ndomain_type_id\n  Field required [type=missing, input_value={'assets': [{'name': {}}]}, input_type=dict]\n    For further information visit https://errors.pydantic.dev/2.11/v/missing\nworkflow_stage_id\n  Field required [type=missing, input_value={'assets': [{'name': {}}]}, input_type=dict]\n    For further information visit https://errors.pydantic.dev/2.11/v/missing\nrelative_path\n  Field required [type=missing, input_value={'assets': [{'name': {}}]}, input_type=dict]\n    For further information visit https://errors.pydantic.dev/2.11/v/missing\nassets.0.id\n  Field required [type=missing, input_value={'name': {}}, input_type=dict]\n    For further information visit https://errors.pydantic.dev/2.11/v/missing\nassets.0.name.en\n  Field required [type=missing, input_value={}, input_type=dict]\n    For further information visit https://errors.pydantic.dev/2.11/v/missing\nassets.0.description\n  Field required [type=missing, input_value={'name': {}}, input_type=dict]\n    For further information visit https://errors.pydantic.dev/2.11/v/missing\nassets.0.relative_path\n  Field required [type=missing, input_value={'name': {}}, input_type=dict]\n    For further information visit https://errors.pydantic.dev/2.11/v/missing",
     "output_type": "error",
     "traceback": [
      "\u001b[31m---------------------------------------------------------------------------\u001b[39m",
      "\u001b[31mValidationError\u001b[39m                           Traceback (most recent call last)",
      "\u001b[36mCell\u001b[39m\u001b[36m \u001b[39m\u001b[32mIn[38]\u001b[39m\u001b[32m, line 1\u001b[39m\n\u001b[32m----> \u001b[39m\u001b[32m1\u001b[39m \u001b[43mschemas\u001b[49m\u001b[43m.\u001b[49m\u001b[43mSurveyRelatedRecordCreate\u001b[49m\u001b[43m(\u001b[49m\u001b[43massets\u001b[49m\u001b[43m=\u001b[49m\u001b[43m[\u001b[49m\u001b[43m{\u001b[49m\u001b[33;43m\"\u001b[39;49m\u001b[33;43mname\u001b[39;49m\u001b[33;43m\"\u001b[39;49m\u001b[43m:\u001b[49m\u001b[43m \u001b[49m\u001b[43m{\u001b[49m\u001b[43m}\u001b[49m\u001b[43m}\u001b[49m\u001b[43m]\u001b[49m\u001b[43m)\u001b[49m\n",
      "\u001b[36mFile \u001b[39m\u001b[32m~/app/.venv/lib/python3.12/site-packages/pydantic/main.py:253\u001b[39m, in \u001b[36mBaseModel.__init__\u001b[39m\u001b[34m(self, **data)\u001b[39m\n\u001b[32m    251\u001b[39m \u001b[38;5;66;03m# `__tracebackhide__` tells pytest and some other tools to omit this function from tracebacks\u001b[39;00m\n\u001b[32m    252\u001b[39m __tracebackhide__ = \u001b[38;5;28;01mTrue\u001b[39;00m\n\u001b[32m--> \u001b[39m\u001b[32m253\u001b[39m validated_self = \u001b[38;5;28;43mself\u001b[39;49m\u001b[43m.\u001b[49m\u001b[43m__pydantic_validator__\u001b[49m\u001b[43m.\u001b[49m\u001b[43mvalidate_python\u001b[49m\u001b[43m(\u001b[49m\u001b[43mdata\u001b[49m\u001b[43m,\u001b[49m\u001b[43m \u001b[49m\u001b[43mself_instance\u001b[49m\u001b[43m=\u001b[49m\u001b[38;5;28;43mself\u001b[39;49m\u001b[43m)\u001b[49m\n\u001b[32m    254\u001b[39m \u001b[38;5;28;01mif\u001b[39;00m \u001b[38;5;28mself\u001b[39m \u001b[38;5;129;01mis\u001b[39;00m \u001b[38;5;129;01mnot\u001b[39;00m validated_self:\n\u001b[32m    255\u001b[39m     warnings.warn(\n\u001b[32m    256\u001b[39m         \u001b[33m'\u001b[39m\u001b[33mA custom validator is returning a value other than `self`.\u001b[39m\u001b[38;5;130;01m\\n\u001b[39;00m\u001b[33m'\u001b[39m\n\u001b[32m    257\u001b[39m         \u001b[33m\"\u001b[39m\u001b[33mReturning anything other than `self` from a top level model validator isn\u001b[39m\u001b[33m'\u001b[39m\u001b[33mt supported when validating via `__init__`.\u001b[39m\u001b[38;5;130;01m\\n\u001b[39;00m\u001b[33m\"\u001b[39m\n\u001b[32m    258\u001b[39m         \u001b[33m'\u001b[39m\u001b[33mSee the `model_validator` docs (https://docs.pydantic.dev/latest/concepts/validators/#model-validators) for more details.\u001b[39m\u001b[33m'\u001b[39m,\n\u001b[32m    259\u001b[39m         stacklevel=\u001b[32m2\u001b[39m,\n\u001b[32m    260\u001b[39m     )\n",
      "\u001b[31mValidationError\u001b[39m: 13 validation errors for SurveyRelatedRecordCreate\nid\n  Field required [type=missing, input_value={'assets': [{'name': {}}]}, input_type=dict]\n    For further information visit https://errors.pydantic.dev/2.11/v/missing\nowner\n  Field required [type=missing, input_value={'assets': [{'name': {}}]}, input_type=dict]\n    For further information visit https://errors.pydantic.dev/2.11/v/missing\nname\n  Field required [type=missing, input_value={'assets': [{'name': {}}]}, input_type=dict]\n    For further information visit https://errors.pydantic.dev/2.11/v/missing\ndescription\n  Field required [type=missing, input_value={'assets': [{'name': {}}]}, input_type=dict]\n    For further information visit https://errors.pydantic.dev/2.11/v/missing\nsurvey_mission_id\n  Field required [type=missing, input_value={'assets': [{'name': {}}]}, input_type=dict]\n    For further information visit https://errors.pydantic.dev/2.11/v/missing\ndataset_category_id\n  Field required [type=missing, input_value={'assets': [{'name': {}}]}, input_type=dict]\n    For further information visit https://errors.pydantic.dev/2.11/v/missing\ndomain_type_id\n  Field required [type=missing, input_value={'assets': [{'name': {}}]}, input_type=dict]\n    For further information visit https://errors.pydantic.dev/2.11/v/missing\nworkflow_stage_id\n  Field required [type=missing, input_value={'assets': [{'name': {}}]}, input_type=dict]\n    For further information visit https://errors.pydantic.dev/2.11/v/missing\nrelative_path\n  Field required [type=missing, input_value={'assets': [{'name': {}}]}, input_type=dict]\n    For further information visit https://errors.pydantic.dev/2.11/v/missing\nassets.0.id\n  Field required [type=missing, input_value={'name': {}}, input_type=dict]\n    For further information visit https://errors.pydantic.dev/2.11/v/missing\nassets.0.name.en\n  Field required [type=missing, input_value={}, input_type=dict]\n    For further information visit https://errors.pydantic.dev/2.11/v/missing\nassets.0.description\n  Field required [type=missing, input_value={'name': {}}, input_type=dict]\n    For further information visit https://errors.pydantic.dev/2.11/v/missing\nassets.0.relative_path\n  Field required [type=missing, input_value={'name': {}}, input_type=dict]\n    For further information visit https://errors.pydantic.dev/2.11/v/missing"
     ]
    }
   ],
   "source": [
    "schemas.SurveyRelatedRecordCreate(assets=[{\"name\": {}}])"
   ]
  }
 ],
 "metadata": {
  "kernelspec": {
   "display_name": "Python 3 (ipykernel)",
   "language": "python",
   "name": "python3"
  },
  "language_info": {
   "codemirror_mode": {
    "name": "ipython",
    "version": 3
   },
   "file_extension": ".py",
   "mimetype": "text/x-python",
   "name": "python",
   "nbconvert_exporter": "python",
   "pygments_lexer": "ipython3",
   "version": "3.12.3"
  }
 },
 "nbformat": 4,
 "nbformat_minor": 5
}
