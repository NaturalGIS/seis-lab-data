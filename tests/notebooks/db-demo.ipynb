{
 "cells": [
  {
   "cell_type": "code",
   "execution_count": 1,
   "id": "688bb725-04ae-4389-9e83-cd306d73c9ca",
   "metadata": {},
   "outputs": [
    {
     "ename": "SyntaxError",
     "evalue": "expected ':' (marinecampaigns.py, line 45)",
     "output_type": "error",
     "traceback": [
      "Traceback \u001b[36m(most recent call last)\u001b[39m:\n",
      "  File \u001b[92m~/app/.venv/lib/python3.13/site-packages/IPython/core/interactiveshell.py:3699\u001b[39m in \u001b[95mrun_code\u001b[39m\n    exec(code_obj, self.user_global_ns, self.user_ns)\n",
      "  Cell \u001b[92mIn[1]\u001b[39m\u001b[92m, line 5\u001b[39m\n    from seis_lab_data import (\n",
      "\u001b[36m  \u001b[39m\u001b[36mFile \u001b[39m\u001b[32m~/app/src/seis_lab_data/operations/__init__.py:1\u001b[39m\n\u001b[31m    \u001b[39m\u001b[31mfrom .marinecampaigns import (\u001b[39m\n",
      "  \u001b[36mFile \u001b[39m\u001b[32m~/app/src/seis_lab_data/operations/marinecampaigns.py:45\u001b[39m\n\u001b[31m    \u001b[39m\u001b[31m)\u001b[39m\n     ^\n\u001b[31mSyntaxError\u001b[39m\u001b[31m:\u001b[39m expected ':'\n"
     ]
    }
   ],
   "source": [
    "import uuid\n",
    "\n",
    "import babel\n",
    "\n",
    "from seis_lab_data import (\n",
    "    config,\n",
    "    operations,\n",
    "    schemas,\n",
    ")\n",
    "from seis_lab_data.db.engine import (\n",
    "    get_engine,\n",
    "    get_session_maker,\n",
    ")\n",
    "\n",
    "EN_LOCALE = babel.Locale.parse(\"en_US\")\n",
    "PT_LOCALE = babel.Locale.parse(\"pt_PT\")\n",
    "\n",
    "settings = config.get_settings()"
   ]
  },
  {
   "cell_type": "code",
   "execution_count": 2,
   "id": "2079b2c5-e8d1-4fc7-a4f6-a035e5cd1d98",
   "metadata": {},
   "outputs": [],
   "source": [
    "to_create = schemas.MarineCampaignCreate(\n",
    "    id=uuid.uuid4(),\n",
    "    owner=\"some-guy\",\n",
    "    name={\n",
    "        EN_LOCALE.language: \"my beautiful campaign\",\n",
    "        PT_LOCALE.language: \"A minha belíssima campanha\",\n",
    "    },\n",
    "    links=[\n",
    "        {\n",
    "            \"url\": \"http://fake.com\",\n",
    "            \"media_type\": \"text/html\",\n",
    "            \"relation\": \"parent\",\n",
    "            \"description\": {EN_LOCALE.language: \"This is a link about something\"},\n",
    "        }\n",
    "    ],\n",
    ")"
   ]
  },
  {
   "cell_type": "code",
   "execution_count": null,
   "id": "48c88d3f-83be-42be-aeea-d8e72cbe681d",
   "metadata": {},
   "outputs": [],
   "source": [
    "engine = get_engine(settings)\n",
    "session_maker = get_session_maker(engine)"
   ]
  },
  {
   "cell_type": "code",
   "execution_count": 3,
   "id": "8bc972dc-4950-49c5-9788-2e9f5ef452e6",
   "metadata": {},
   "outputs": [
    {
     "name": "stdout",
     "output_type": "stream",
     "text": [
      "2025-08-27 16:49:10,594 INFO sqlalchemy.engine.Engine select pg_catalog.version()\n",
      "2025-08-27 16:49:10,594 INFO sqlalchemy.engine.Engine [raw sql] {}\n",
      "2025-08-27 16:49:10,596 INFO sqlalchemy.engine.Engine select current_schema()\n",
      "2025-08-27 16:49:10,596 INFO sqlalchemy.engine.Engine [raw sql] {}\n",
      "2025-08-27 16:49:10,597 INFO sqlalchemy.engine.Engine show standard_conforming_strings\n",
      "2025-08-27 16:49:10,598 INFO sqlalchemy.engine.Engine [raw sql] {}\n",
      "2025-08-27 16:49:10,602 INFO sqlalchemy.engine.Engine BEGIN (implicit)\n",
      "2025-08-27 16:49:10,603 INFO sqlalchemy.engine.Engine INSERT INTO marinecampaign (id, owner, name, slug, links) VALUES (%(id)s::UUID, %(owner)s::VARCHAR, %(name)s::JSONB, %(slug)s::VARCHAR, %(links)s::JSONB)\n",
      "2025-08-27 16:49:10,604 INFO sqlalchemy.engine.Engine [generated in 0.00053s] {'id': UUID('232c2349-6adb-4b79-bcea-88732b514d07'), 'owner': 'some-guy', 'name': Jsonb({'en': 'my beautiful campaign', 'pt ... (67 chars)), 'slug': 'my-beautiful-campaign', 'links': Jsonb([{'url': 'http://fake.com', 'media_ ... (134 chars))}\n",
      "2025-08-27 16:49:10,606 INFO sqlalchemy.engine.Engine COMMIT\n",
      "2025-08-27 16:49:11,497 INFO sqlalchemy.engine.Engine BEGIN (implicit)\n",
      "2025-08-27 16:49:11,500 INFO sqlalchemy.engine.Engine SELECT marinecampaign.id, marinecampaign.owner, marinecampaign.name, marinecampaign.slug, marinecampaign.links \n",
      "FROM marinecampaign \n",
      "WHERE marinecampaign.id = %(pk_1)s::UUID\n",
      "2025-08-27 16:49:11,500 INFO sqlalchemy.engine.Engine [generated in 0.00060s] {'pk_1': UUID('232c2349-6adb-4b79-bcea-88732b514d07')}\n",
      "2025-08-27 16:49:11,503 INFO sqlalchemy.engine.Engine ROLLBACK\n"
     ]
    }
   ],
   "source": [
    "async with session_maker() as session:\n",
    "    c1 = await operations.create_marine_campaign(to_create, settings)"
   ]
  }
 ],
 "metadata": {
  "kernelspec": {
   "display_name": "Python 3 (ipykernel)",
   "language": "python",
   "name": "python3"
  },
  "language_info": {
   "codemirror_mode": {
    "name": "ipython",
    "version": 3
   },
   "file_extension": ".py",
   "mimetype": "text/x-python",
   "name": "python",
   "nbconvert_exporter": "python",
   "pygments_lexer": "ipython3",
   "version": "3.13.7"
  }
 },
 "nbformat": 4,
 "nbformat_minor": 5
}
