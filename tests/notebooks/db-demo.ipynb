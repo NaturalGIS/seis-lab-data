{
 "cells": [
  {
   "cell_type": "code",
   "execution_count": 1,
   "id": "7343d9db-34d5-4e9d-923b-65620123e1b1",
   "metadata": {},
   "outputs": [
    {
     "name": "stderr",
     "output_type": "stream",
     "text": [
      "/home/ubuntu/app/.venv/lib/python3.12/site-packages/pydantic_settings/sources/providers/secrets.py:60: UserWarning: directory \"/run/secrets\" does not exist\n",
      "  warnings.warn(f'directory \"{path}\" does not exist')\n"
     ]
    }
   ],
   "source": [
    "import uuid\n",
    "\n",
    "import babel\n",
    "\n",
    "from seis_lab_data import (\n",
    "    config,\n",
    "    operations,\n",
    "    schemas,\n",
    ")\n",
    "from seis_lab_data.db.engine import (\n",
    "    get_engine,\n",
    "    get_session_maker,\n",
    ")\n",
    "from seis_lab_data.db import queries\n",
    "\n",
    "EN_LOCALE = babel.Locale.parse(\"en_US\")\n",
    "PT_LOCALE = babel.Locale.parse(\"pt_PT\")\n",
    "\n",
    "settings = config.get_settings()\n",
    "\n",
    "engine = get_engine(settings.database_dsn.unicode_string(), settings.debug)\n",
    "session_maker = get_session_maker(engine)"
   ]
  },
  {
   "cell_type": "code",
   "execution_count": 4,
   "id": "3d43caf8-565f-4178-b698-0fabba26f86f",
   "metadata": {},
   "outputs": [
    {
     "name": "stdout",
     "output_type": "stream",
     "text": [
      "2025-09-19 10:02:52,348 INFO sqlalchemy.engine.Engine BEGIN (implicit)\n",
      "2025-09-19 10:02:52,349 INFO sqlalchemy.engine.Engine SELECT project.id, project.owner, project.name, project.description, project.status, project.root_path, project.is_valid, project.links \n",
      "FROM project \n",
      "WHERE (project.name ->> %(name_1)s::TEXT) = %(param_1)s::VARCHAR\n",
      "2025-09-19 10:02:52,349 INFO sqlalchemy.engine.Engine [cached since 21.12s ago] {'name_1': 'en', 'param_1': 'proj1'}\n",
      "{'name': {'en': 'proj1', 'pt': ''}, 'is_valid': False, 'links': [], 'owner': '7bc0548d9be29526d15357d6c13efae7dc86c145a10e04e30bcad7d7926349fd', 'id': UUID('a7773b1b-7611-468b-af47-098d9361884d'), 'description': {'en': '', 'pt': ''}, 'status': <ProjectStatus.DRAFT: 'draft'>, 'root_path': ''}\n",
      "2025-09-19 10:02:52,351 INFO sqlalchemy.engine.Engine ROLLBACK\n"
     ]
    }
   ],
   "source": [
    "async with session_maker() as session:\n",
    "    c1 = await queries.get_project_by_english_name(session, \"proj1\")\n",
    "    print(c1.model_dump())"
   ]
  },
  {
   "cell_type": "code",
   "execution_count": 3,
   "id": "96c00022-58c0-4afb-a0e1-7881059dae55",
   "metadata": {},
   "outputs": [
    {
     "data": {
      "text/plain": [
       "{'name': {'en': 'My first campaign', 'pt': 'A minha primeira campanha'},\n",
       " 'slug': 'my-first-campaign',\n",
       " 'root_path': '/projects/first',\n",
       " 'links': [{'url': 'https://fakeurl.com',\n",
       "   'relation': 'related',\n",
       "   'media_type': 'text/html',\n",
       "   'description': {'en': 'A fake description for link',\n",
       "    'pt': 'Uma descrição falsa para o link'}}],\n",
       " 'description': {'en': 'A fake description for my first campaign',\n",
       "  'pt': 'Uma descrição sintética para a minha primeira campanha'},\n",
       " 'id': UUID('74f07051-1aa9-4c08-bc27-3ecf101ab5b3'),\n",
       " 'owner': 'fakeowner1',\n",
       " 'status': <MarineCampaignStatus.DRAFT: 'draft'>,\n",
       " 'is_valid': False}"
      ]
     },
     "execution_count": 3,
     "metadata": {},
     "output_type": "execute_result"
    }
   ],
   "source": [
    "c1.model_dump()"
   ]
  },
  {
   "cell_type": "code",
   "execution_count": 4,
   "id": "6fb97c93-acb9-4abb-a47b-ef9a3c4c0382",
   "metadata": {
    "editable": true,
    "slideshow": {
     "slide_type": ""
    },
    "tags": []
   },
   "outputs": [
    {
     "data": {
      "text/plain": [
       "MarineCampaignReadDetail(id=UUID('74f07051-1aa9-4c08-bc27-3ecf101ab5b3'), slug='my-first-campaign', name={'en': 'My first campaign', 'pt': 'A minha primeira campanha'}, description={'en': 'A fake description for my first campaign', 'pt': 'Uma descrição sintética para a minha primeira campanha'}, status=<MarineCampaignStatus.DRAFT: 'draft'>, is_valid=False, owner='fakeowner1', root_path='/projects/first', links=[LinkSchema(url='https://fakeurl.com', media_type='text/html', relation='related', description={'en': 'A fake description for link', 'pt': 'Uma descrição falsa para o link'})])"
      ]
     },
     "execution_count": 4,
     "metadata": {},
     "output_type": "execute_result"
    }
   ],
   "source": [
    "schemas.ProjectReadDetail(**c1.model_dump())"
   ]
  },
  {
   "cell_type": "code",
   "execution_count": 2,
   "id": "2079b2c5-e8d1-4fc7-a4f6-a035e5cd1d98",
   "metadata": {},
   "outputs": [],
   "source": [
    "to_create = schemas.ProjectCreate(\n",
    "    id=uuid.uuid4(),\n",
    "    owner=\"some-guy\",\n",
    "    name={\n",
    "        EN_LOCALE.language: \"my beautiful campaign\",\n",
    "        PT_LOCALE.language: \"A minha belíssima campanha\",\n",
    "    },\n",
    "    links=[\n",
    "        {\n",
    "            \"url\": \"http://fake.com\",\n",
    "            \"media_type\": \"text/html\",\n",
    "            \"relation\": \"parent\",\n",
    "            \"description\": {EN_LOCALE.language: \"This is a link about something\"},\n",
    "        }\n",
    "    ],\n",
    ")"
   ]
  },
  {
   "cell_type": "code",
   "execution_count": 3,
   "id": "8bc972dc-4950-49c5-9788-2e9f5ef452e6",
   "metadata": {},
   "outputs": [
    {
     "name": "stdout",
     "output_type": "stream",
     "text": [
      "2025-08-27 16:49:10,594 INFO sqlalchemy.engine.Engine select pg_catalog.version()\n",
      "2025-08-27 16:49:10,594 INFO sqlalchemy.engine.Engine [raw sql] {}\n",
      "2025-08-27 16:49:10,596 INFO sqlalchemy.engine.Engine select current_schema()\n",
      "2025-08-27 16:49:10,596 INFO sqlalchemy.engine.Engine [raw sql] {}\n",
      "2025-08-27 16:49:10,597 INFO sqlalchemy.engine.Engine show standard_conforming_strings\n",
      "2025-08-27 16:49:10,598 INFO sqlalchemy.engine.Engine [raw sql] {}\n",
      "2025-08-27 16:49:10,602 INFO sqlalchemy.engine.Engine BEGIN (implicit)\n",
      "2025-08-27 16:49:10,603 INFO sqlalchemy.engine.Engine INSERT INTO marinecampaign (id, owner, name, slug, links) VALUES (%(id)s::UUID, %(owner)s::VARCHAR, %(name)s::JSONB, %(slug)s::VARCHAR, %(links)s::JSONB)\n",
      "2025-08-27 16:49:10,604 INFO sqlalchemy.engine.Engine [generated in 0.00053s] {'id': UUID('232c2349-6adb-4b79-bcea-88732b514d07'), 'owner': 'some-guy', 'name': Jsonb({'en': 'my beautiful campaign', 'pt ... (67 chars)), 'slug': 'my-beautiful-campaign', 'links': Jsonb([{'url': 'http://fake.com', 'media_ ... (134 chars))}\n",
      "2025-08-27 16:49:10,606 INFO sqlalchemy.engine.Engine COMMIT\n",
      "2025-08-27 16:49:11,497 INFO sqlalchemy.engine.Engine BEGIN (implicit)\n",
      "2025-08-27 16:49:11,500 INFO sqlalchemy.engine.Engine SELECT marinecampaign.id, marinecampaign.owner, marinecampaign.name, marinecampaign.slug, marinecampaign.links \n",
      "FROM marinecampaign \n",
      "WHERE marinecampaign.id = %(pk_1)s::UUID\n",
      "2025-08-27 16:49:11,500 INFO sqlalchemy.engine.Engine [generated in 0.00060s] {'pk_1': UUID('232c2349-6adb-4b79-bcea-88732b514d07')}\n",
      "2025-08-27 16:49:11,503 INFO sqlalchemy.engine.Engine ROLLBACK\n"
     ]
    }
   ],
   "source": [
    "async with session_maker() as session:\n",
    "    c1 = await operations.create_project(to_create, settings)"
   ]
  }
 ],
 "metadata": {
  "kernelspec": {
   "display_name": "Python 3 (ipykernel)",
   "language": "python",
   "name": "python3"
  },
  "language_info": {
   "codemirror_mode": {
    "name": "ipython",
    "version": 3
   },
   "file_extension": ".py",
   "mimetype": "text/x-python",
   "name": "python",
   "nbconvert_exporter": "python",
   "pygments_lexer": "ipython3",
   "version": "3.12.3"
  }
 },
 "nbformat": 4,
 "nbformat_minor": 5
}
