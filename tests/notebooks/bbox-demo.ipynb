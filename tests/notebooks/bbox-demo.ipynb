{
 "cells": [
  {
   "cell_type": "code",
   "execution_count": 1,
   "id": "786bf4e3-ae7b-4b84-8aff-5c8efca10c1a",
   "metadata": {},
   "outputs": [
    {
     "name": "stderr",
     "output_type": "stream",
     "text": [
      "/home/ubuntu/app/.venv/lib/python3.12/site-packages/pydantic_settings/sources/providers/secrets.py:60: UserWarning: directory \"/run/secrets\" does not exist\n",
      "  warnings.warn(f'directory \"{path}\" does not exist')\n"
     ]
    }
   ],
   "source": [
    "import uuid\n",
    "\n",
    "from seis_lab_data.config import get_settings\n",
    "from seis_lab_data.db.engine import get_engine, get_session_maker\n",
    "from seis_lab_data import schemas\n",
    "from seis_lab_data.db import queries\n",
    "\n",
    "settings = get_settings()\n",
    "session_maker = get_session_maker(get_engine(settings.database_dsn.unicode_string()))\n",
    "session = session_maker()"
   ]
  },
  {
   "cell_type": "code",
   "execution_count": 2,
   "id": "62dcd466-0dc4-4f77-a6ee-f54c196f2fc3",
   "metadata": {},
   "outputs": [],
   "source": [
    "ps = await queries.collect_all_projects(session)"
   ]
  },
  {
   "cell_type": "code",
   "execution_count": 3,
   "id": "0ca5f091-14b7-4e59-8d47-cebd028e95ea",
   "metadata": {},
   "outputs": [
    {
     "data": {
      "text/plain": [
       "[UUID('74f07051-1aa9-4c08-bc27-3ecf101ab5b3'),\n",
       " UUID('9a877fbe-da98-45ab-af70-711879c6fc01'),\n",
       " UUID('d2ad6154-f101-4477-b125-65ecca39b714'),\n",
       " UUID('a7773b1b-7611-468b-af47-098d9361884d'),\n",
       " UUID('d5d3cf41-f82a-4b32-a7af-786df88ee1a7'),\n",
       " UUID('7cbf8d57-7a46-405d-8ed4-505a0e4335dd')]"
      ]
     },
     "execution_count": 3,
     "metadata": {},
     "output_type": "execute_result"
    }
   ],
   "source": [
    "[p.id for p in ps]"
   ]
  },
  {
   "cell_type": "code",
   "execution_count": 4,
   "id": "6ccbfae3-c13b-4d32-a5b8-e1dde5d5a63c",
   "metadata": {},
   "outputs": [],
   "source": [
    "ps[0].bbox_4326"
   ]
  },
  {
   "cell_type": "code",
   "execution_count": 6,
   "id": "f43af745-3a16-4610-a5d7-60acfc6657c3",
   "metadata": {},
   "outputs": [
    {
     "data": {
      "text/plain": [
       "'{\"id\":\"74f07051-1aa9-4c08-bc27-3ecf101ab5b3\",\"name\":{\"en\":\"My first project\",\"pt\":\"O meu primeiro projeto\"},\"status\":\"draft\",\"is_valid\":false,\"description\":{\"en\":\"A Fake description for my first project\",\"pt\":\"Uma descrição falsa para o meu primeiro projeto\"},\"owner\":\"fake-owner1\",\"root_path\":\"/projects/first\",\"links\":[{\"url\":\"https://fakeurl.com/\",\"media_type\":\"text/html\",\"relation\":\"related\",\"link_description\":{\"en\":\"A fake description for link\",\"pt\":\"Uma descrição falsa para o link\"}}],\"bbox_4326\":null}'"
      ]
     },
     "execution_count": 6,
     "metadata": {},
     "output_type": "execute_result"
    }
   ],
   "source": [
    "schemas.ProjectReadDetail.from_db_instance(ps[0]).model_dump_json()"
   ]
  },
  {
   "cell_type": "code",
   "execution_count": 9,
   "id": "e8ff22a0-aed3-4352-a0f3-7362c7a60af6",
   "metadata": {},
   "outputs": [],
   "source": [
    "pc = schemas.ProjectCreate(\n",
    "    id=schemas.ProjectId(uuid.uuid4()),\n",
    "    owner=schemas.UserId(\"fake\"),\n",
    "    name={\"en\": \"this\"},\n",
    "    root_path=\"/something\",\n",
    "    bbox_4326=\"POLYGON((0 0, 10 0, 10 10, 0 10, 0 0))\",\n",
    ")"
   ]
  },
  {
   "cell_type": "code",
   "execution_count": 11,
   "id": "704940e1-693a-4d96-8531-01e0e092190b",
   "metadata": {},
   "outputs": [
    {
     "data": {
      "text/plain": [
       "{'id': UUID('9fdbadb6-613a-476d-a146-8af7a7092d26'),\n",
       " 'owner': 'fake',\n",
       " 'name': {'en': 'this', 'pt': None},\n",
       " 'description': None,\n",
       " 'root_path': '/something',\n",
       " 'links': [],\n",
       " 'bbox_4326': <POLYGON ((0 0, 10 0, 10 10, 0 10, 0 0))>}"
      ]
     },
     "execution_count": 11,
     "metadata": {},
     "output_type": "execute_result"
    }
   ],
   "source": [
    "pc.model_dump()"
   ]
  },
  {
   "cell_type": "code",
   "execution_count": 13,
   "id": "758e143b-009f-4835-a3db-760a3af943dd",
   "metadata": {},
   "outputs": [
    {
     "data": {
      "text/plain": [
       "(0.0, 0.0, 10.0, 10.0)"
      ]
     },
     "execution_count": 13,
     "metadata": {},
     "output_type": "execute_result"
    }
   ],
   "source": [
    "pc.bbox_4326.bounds"
   ]
  }
 ],
 "metadata": {
  "kernelspec": {
   "display_name": "Python 3 (ipykernel)",
   "language": "python",
   "name": "python3"
  },
  "language_info": {
   "codemirror_mode": {
    "name": "ipython",
    "version": 3
   },
   "file_extension": ".py",
   "mimetype": "text/x-python",
   "name": "python",
   "nbconvert_exporter": "python",
   "pygments_lexer": "ipython3",
   "version": "3.12.3"
  }
 },
 "nbformat": 4,
 "nbformat_minor": 5
}
